{
 "cells": [
  {
   "cell_type": "code",
   "execution_count": 110,
   "metadata": {},
   "outputs": [],
   "source": [
    "from IPython.core.interactiveshell import InteractiveShell \n",
    "InteractiveShell.ast_node_interactivity = 'all' #默认为'last'"
   ]
  },
  {
   "cell_type": "markdown",
   "metadata": {},
   "source": [
    "在这个模型中，通过正弦序列中的连续num_time_steps个点预测下一个点。\n",
    "先产生一个num_x_points，即50个点的正弦序列。然后用这个正弦序列生成训练数据。\n",
    "训练数据包含50-10=40个序列。\n",
    "第一个序列：输入为第1-10个点的正弦值，输出target为第11个点的正弦值。\n",
    "第二个序列：输入为第2-11个点的正弦值，输出target为第12个点的正弦值。\n",
    "以此类推。\n",
    "注意，这里RNN中，只用到最右边一个输出，即最后一个timestep单元对应的hidden状态，然后通过线性变换生成输出。"
   ]
  },
  {
   "cell_type": "markdown",
   "metadata": {},
   "source": [
    "另外还有一个程序，是另一种方式，例如，通过第1-10个点，预测2-11个点。\n",
    "这时，RNN的所有timestep单元对应的hidden状态都要用于生成output。"
   ]
  },
  {
   "cell_type": "code",
   "execution_count": 111,
   "metadata": {},
   "outputs": [],
   "source": [
    "from torch.utils.data import DataLoader\n",
    "from torch.utils.data import TensorDataset\n",
    "import torch.nn as nn\n",
    "import numpy as np\n",
    "import torch"
   ]
  },
  {
   "cell_type": "code",
   "execution_count": 112,
   "metadata": {},
   "outputs": [],
   "source": [
    "input_size = 1\n",
    "hidden_size = 16\n",
    "output_size = 1\n",
    "num_time_steps = 10\n",
    "num_x_points = 50\n",
    "batch_size = 8\n",
    "num_epochs = 20"
   ]
  },
  {
   "cell_type": "markdown",
   "metadata": {},
   "source": [
    "#这个代码块是不用了的。\n",
    "x = np.linspace(-2*np.pi,2*np.pi,400)\n",
    "y = np.sin(x)\n",
    "#print(x)\n",
    "print(x.shape)\n",
    "print(y.shape)"
   ]
  },
  {
   "cell_type": "markdown",
   "metadata": {},
   "source": [
    "#这个代码块也不用了。\n",
    "X = np.expand_dims(x,axis=1)\n",
    "Y = y.reshape(400,-1)\n",
    "print(X.shape)\n",
    "print(Y.shape)"
   ]
  },
  {
   "cell_type": "code",
   "execution_count": 113,
   "metadata": {},
   "outputs": [
    {
     "name": "stdout",
     "output_type": "stream",
     "text": [
      "(50,)\n"
     ]
    }
   ],
   "source": [
    "x_points = np.linspace(-2*np.pi,2*np.pi,num_x_points)\n",
    "sin_sequence = np.sin(x_points)\n",
    "print(sin_sequence.shape)"
   ]
  },
  {
   "cell_type": "markdown",
   "metadata": {},
   "source": [
    "def generate_data(seq):\n",
    "    X = []\n",
    "    Y = []\n",
    "    for i in range(len(seq)-num_time_steps):\n",
    "        X.append([seq[i:i + num_time_steps]])\n",
    "        Y.append([seq[i + num_time_steps]])\n",
    "    return X,Y"
   ]
  },
  {
   "cell_type": "markdown",
   "metadata": {},
   "source": [
    "[X,Y] = generate_data(sin_sequence)\n",
    "print(X)\n",
    "print(len(X))\n",
    "print(type(X[1][0]))\n",
    "print(X[1][0].shape)\n",
    "print(Y)\n",
    "print(len(Y))"
   ]
  },
  {
   "cell_type": "code",
   "execution_count": 114,
   "metadata": {},
   "outputs": [],
   "source": [
    "def generate_data(seq):\n",
    "    X = []\n",
    "    y = []\n",
    "    for i in range(len(seq)-num_time_steps):\n",
    "        X.append([seq[i:i + num_time_steps]])\n",
    "        y.append([seq[i + num_time_steps]])\n",
    "    return np.array(X,dtype=np.float32),np.array(y,dtype=np.float32)"
   ]
  },
  {
   "cell_type": "code",
   "execution_count": 115,
   "metadata": {},
   "outputs": [
    {
     "name": "stdout",
     "output_type": "stream",
     "text": [
      "(40, 1, 10)\n",
      "(40, 10, 1)\n",
      "(40, 1)\n"
     ]
    }
   ],
   "source": [
    "[X,y] = generate_data(sin_sequence)\n",
    "#print(X)\n",
    "print(X.shape)  #(40,1,10)\n",
    "X = X.transpose(0,2,1)   #transpose与reshape区别？\n",
    "print(X.shape)\n",
    "#print(y)\n",
    "print(y.shape)  #(40,1)"
   ]
  },
  {
   "cell_type": "code",
   "execution_count": 116,
   "metadata": {},
   "outputs": [],
   "source": [
    "dataset = TensorDataset(torch.tensor(X,dtype=torch.float),torch.tensor(y,dtype=torch.float))"
   ]
  },
  {
   "cell_type": "code",
   "execution_count": 117,
   "metadata": {},
   "outputs": [
    {
     "data": {
      "text/plain": [
       "torch.utils.data.dataloader.DataLoader"
      ]
     },
     "execution_count": 117,
     "metadata": {},
     "output_type": "execute_result"
    }
   ],
   "source": [
    "dataloader = DataLoader(dataset,batch_size=batch_size,shuffle=True)\n",
    "type(dataloader)"
   ]
  },
  {
   "cell_type": "markdown",
   "metadata": {},
   "source": [
    "nn.RNN, RNNBase,RNNcell,RNNcellbase有什么区别？\n",
    "什么时候网络结构要设计派生类？"
   ]
  },
  {
   "cell_type": "code",
   "execution_count": 118,
   "metadata": {},
   "outputs": [],
   "source": [
    "class Net(nn.Module):\n",
    "    def __init__(self):\n",
    "        super(Net,self).__init__()\n",
    "        self.rnn = nn.RNN(input_size=input_size,hidden_size=hidden_size,batch_first=True)\n",
    "        self.liner = nn.Linear(hidden_size,output_size)\n",
    "        \n",
    "    def forward(self,x,h0):\n",
    "        out,hn = self.rnn(x,h0)  \n",
    "        #now out: (batch_size,seq_length,hidden_size)\n",
    "        #hn: (1,batch_size,hidden_size)\n",
    "        #print(out.shape)\n",
    "        #print('hn shape:{}'.format(hn.shape))\n",
    "        out = out[:,-1,:]\n",
    "        out = out.view(-1,hidden_size) #out.view(batch_size,hidden_size)\n",
    "        #print(out.shape)\n",
    "        out = self.liner(out)\n",
    "        #print(out.shape)\n",
    "        return out,hn"
   ]
  },
  {
   "cell_type": "code",
   "execution_count": 119,
   "metadata": {},
   "outputs": [],
   "source": [
    "model = Net()\n",
    "criterion = nn.MSELoss()\n",
    "optimizer = torch.optim.Adam(model.parameters(),1e-2)\n",
    "\n",
    "h0 = torch.zeros(1,batch_size,hidden_size)"
   ]
  },
  {
   "cell_type": "code",
   "execution_count": 120,
   "metadata": {},
   "outputs": [
    {
     "name": "stdout",
     "output_type": "stream",
     "text": [
      "epoch:1, loss:0.2970317602157593\n",
      "epoch:2, loss:0.19924497604370117\n",
      "epoch:3, loss:0.11399070173501968\n",
      "epoch:4, loss:0.0030341388192027807\n",
      "epoch:5, loss:0.028286049142479897\n",
      "epoch:6, loss:0.011129038408398628\n",
      "epoch:7, loss:0.015432802960276604\n",
      "epoch:8, loss:0.017301617190241814\n",
      "epoch:9, loss:0.005960273556411266\n",
      "epoch:10, loss:0.002924890024587512\n",
      "epoch:11, loss:0.00309054390527308\n",
      "epoch:12, loss:0.0017144476296380162\n",
      "epoch:13, loss:0.00034147509722970426\n",
      "epoch:14, loss:0.00029292324325069785\n",
      "epoch:15, loss:0.000857775507029146\n",
      "epoch:16, loss:0.0009925049962475896\n",
      "epoch:17, loss:0.00021697489137295634\n",
      "epoch:18, loss:0.00017447737627662718\n",
      "epoch:19, loss:0.00024913225206546485\n",
      "epoch:20, loss:0.00020701873290818185\n"
     ]
    }
   ],
   "source": [
    "for epoch in range(num_epochs):\n",
    "    for batch_x,batch_y in dataloader:\n",
    "        #print(batch_x.shape)\n",
    "        #print('batch_y shape:{}'.format(batch_y.shape))\n",
    "        (y_predict,hn) = model(batch_x,h0)\n",
    "        #print('y_predict shape:{}'.format(y_predict.shape))\n",
    "        loss = criterion(y_predict,batch_y)\n",
    "        optimizer.zero_grad()\n",
    "        loss.backward()\n",
    "        optimizer.step()\n",
    "        \n",
    "    print('epoch:{}, loss:{}'.format(epoch+1,loss.item()))"
   ]
  },
  {
   "cell_type": "markdown",
   "metadata": {},
   "source": [
    "下面是测试部分。"
   ]
  },
  {
   "cell_type": "code",
   "execution_count": 124,
   "metadata": {},
   "outputs": [
    {
     "name": "stdout",
     "output_type": "stream",
     "text": [
      "(250,)\n"
     ]
    }
   ],
   "source": [
    "scale_factor = 5\n",
    "test_points = np.linspace(-2*np.pi*scale_factor,2*np.pi*scale_factor,num_x_points*scale_factor)  #是不是测试与训练要时间间隔相等啊？\n",
    "test_x_true = np.sin(test_points)\n",
    "print(test_x_true.shape)"
   ]
  },
  {
   "cell_type": "code",
   "execution_count": 125,
   "metadata": {},
   "outputs": [
    {
     "data": {
      "text/plain": [
       "Net(\n",
       "  (rnn): RNN(1, 16, batch_first=True)\n",
       "  (liner): Linear(in_features=16, out_features=1, bias=True)\n",
       ")"
      ]
     },
     "execution_count": 125,
     "metadata": {},
     "output_type": "execute_result"
    },
    {
     "name": "stdout",
     "output_type": "stream",
     "text": [
      "[1.2246467991473533e-15, 0.2496673968626087, 0.48352168639969956, 0.6867513112135009, 0.8464843789012085, 0.9526039251554224, 0.9983886888289514, 0.9809388143902326, 0.9013595191835575, 0.7646910926171744, tensor(0.5621, grad_fn=<SelectBackward>), tensor(0.3477, grad_fn=<SelectBackward>), tensor(0.1116, grad_fn=<SelectBackward>), tensor(-0.1309, grad_fn=<SelectBackward>), tensor(-0.3692, grad_fn=<SelectBackward>), tensor(-0.5877, grad_fn=<SelectBackward>), tensor(-0.7686, grad_fn=<SelectBackward>), tensor(-0.8961, grad_fn=<SelectBackward>), tensor(-0.9575, grad_fn=<SelectBackward>), tensor(-0.9488, grad_fn=<SelectBackward>), tensor(-0.8754, grad_fn=<SelectBackward>), tensor(-0.7476, grad_fn=<SelectBackward>), tensor(-0.5743, grad_fn=<SelectBackward>), tensor(-0.3620, grad_fn=<SelectBackward>), tensor(-0.1195, grad_fn=<SelectBackward>), tensor(0.1379, grad_fn=<SelectBackward>), tensor(0.3875, grad_fn=<SelectBackward>), tensor(0.6074, grad_fn=<SelectBackward>), tensor(0.7839, grad_fn=<SelectBackward>), tensor(0.9115, grad_fn=<SelectBackward>), tensor(0.9846, grad_fn=<SelectBackward>), tensor(0.9941, grad_fn=<SelectBackward>), tensor(0.9312, grad_fn=<SelectBackward>), tensor(0.8001, grad_fn=<SelectBackward>), tensor(0.6202, grad_fn=<SelectBackward>), tensor(0.4100, grad_fn=<SelectBackward>), tensor(0.1803, grad_fn=<SelectBackward>), tensor(-0.0602, grad_fn=<SelectBackward>), tensor(-0.3006, grad_fn=<SelectBackward>), tensor(-0.5258, grad_fn=<SelectBackward>), tensor(-0.7191, grad_fn=<SelectBackward>), tensor(-0.8635, grad_fn=<SelectBackward>), tensor(-0.9449, grad_fn=<SelectBackward>), tensor(-0.9565, grad_fn=<SelectBackward>), tensor(-0.9011, grad_fn=<SelectBackward>), tensor(-0.7883, grad_fn=<SelectBackward>), tensor(-0.6276, grad_fn=<SelectBackward>), tensor(-0.4261, grad_fn=<SelectBackward>), tensor(-0.1912, grad_fn=<SelectBackward>), tensor(0.0638, grad_fn=<SelectBackward>), tensor(0.3179, grad_fn=<SelectBackward>), tensor(0.5481, grad_fn=<SelectBackward>), tensor(0.7379, grad_fn=<SelectBackward>), tensor(0.8799, grad_fn=<SelectBackward>), tensor(0.9694, grad_fn=<SelectBackward>), tensor(0.9982, grad_fn=<SelectBackward>), tensor(0.9565, grad_fn=<SelectBackward>), tensor(0.8435, grad_fn=<SelectBackward>), tensor(0.6754, grad_fn=<SelectBackward>), tensor(0.4725, grad_fn=<SelectBackward>), tensor(0.2476, grad_fn=<SelectBackward>), tensor(0.0093, grad_fn=<SelectBackward>), tensor(-0.2325, grad_fn=<SelectBackward>), tensor(-0.4638, grad_fn=<SelectBackward>), tensor(-0.6680, grad_fn=<SelectBackward>), tensor(-0.8280, grad_fn=<SelectBackward>), tensor(-0.9285, grad_fn=<SelectBackward>), tensor(-0.9602, grad_fn=<SelectBackward>), tensor(-0.9232, grad_fn=<SelectBackward>), tensor(-0.8258, grad_fn=<SelectBackward>), tensor(-0.6781, grad_fn=<SelectBackward>), tensor(-0.4876, grad_fn=<SelectBackward>), tensor(-0.2613, grad_fn=<SelectBackward>), tensor(-0.0102, grad_fn=<SelectBackward>), tensor(0.2466, grad_fn=<SelectBackward>), tensor(0.4858, grad_fn=<SelectBackward>), tensor(0.6882, grad_fn=<SelectBackward>), tensor(0.8443, grad_fn=<SelectBackward>), tensor(0.9495, grad_fn=<SelectBackward>), tensor(0.9967, grad_fn=<SelectBackward>), tensor(0.9760, grad_fn=<SelectBackward>), tensor(0.8825, grad_fn=<SelectBackward>), tensor(0.7278, grad_fn=<SelectBackward>), tensor(0.5333, grad_fn=<SelectBackward>), tensor(0.3138, grad_fn=<SelectBackward>), tensor(0.0784, grad_fn=<SelectBackward>), tensor(-0.1636, grad_fn=<SelectBackward>), tensor(-0.3995, grad_fn=<SelectBackward>), tensor(-0.6133, grad_fn=<SelectBackward>), tensor(-0.7876, grad_fn=<SelectBackward>), tensor(-0.9065, grad_fn=<SelectBackward>), tensor(-0.9584, grad_fn=<SelectBackward>), tensor(-0.9405, grad_fn=<SelectBackward>), tensor(-0.8593, grad_fn=<SelectBackward>), tensor(-0.7250, grad_fn=<SelectBackward>), tensor(-0.5461, grad_fn=<SelectBackward>), tensor(-0.3293, grad_fn=<SelectBackward>), tensor(-0.0837, grad_fn=<SelectBackward>), tensor(0.1738, grad_fn=<SelectBackward>), tensor(0.4204, grad_fn=<SelectBackward>), tensor(0.6347, grad_fn=<SelectBackward>), tensor(0.8046, grad_fn=<SelectBackward>), tensor(0.9249, grad_fn=<SelectBackward>), tensor(0.9897, grad_fn=<SelectBackward>), tensor(0.9894, grad_fn=<SelectBackward>), tensor(0.9164, grad_fn=<SelectBackward>), tensor(0.7771, grad_fn=<SelectBackward>), tensor(0.5920, grad_fn=<SelectBackward>), tensor(0.3786, grad_fn=<SelectBackward>), tensor(0.1469, grad_fn=<SelectBackward>), tensor(-0.0943, grad_fn=<SelectBackward>), tensor(-0.3335, grad_fn=<SelectBackward>), tensor(-0.5553, grad_fn=<SelectBackward>), tensor(-0.7427, grad_fn=<SelectBackward>), tensor(-0.8789, grad_fn=<SelectBackward>), tensor(-0.9507, grad_fn=<SelectBackward>), tensor(-0.9525, grad_fn=<SelectBackward>), tensor(-0.8884, grad_fn=<SelectBackward>), tensor(-0.7684, grad_fn=<SelectBackward>), tensor(-0.6016, grad_fn=<SelectBackward>), tensor(-0.3948, grad_fn=<SelectBackward>), tensor(-0.1562, grad_fn=<SelectBackward>), tensor(0.1001, grad_fn=<SelectBackward>), tensor(0.3523, grad_fn=<SelectBackward>), tensor(0.5775, grad_fn=<SelectBackward>), tensor(0.7608, grad_fn=<SelectBackward>), tensor(0.8958, grad_fn=<SelectBackward>), tensor(0.9773, grad_fn=<SelectBackward>), tensor(0.9968, grad_fn=<SelectBackward>), tensor(0.9447, grad_fn=<SelectBackward>), tensor(0.8227, grad_fn=<SelectBackward>), tensor(0.6485, grad_fn=<SelectBackward>), tensor(0.4420, grad_fn=<SelectBackward>), tensor(0.2147, grad_fn=<SelectBackward>), tensor(-0.0248, grad_fn=<SelectBackward>), tensor(-0.2660, grad_fn=<SelectBackward>), tensor(-0.4945, grad_fn=<SelectBackward>), tensor(-0.6935, grad_fn=<SelectBackward>), tensor(-0.8460, grad_fn=<SelectBackward>), tensor(-0.9373, grad_fn=<SelectBackward>), tensor(-0.9591, grad_fn=<SelectBackward>), tensor(-0.9129, grad_fn=<SelectBackward>), tensor(-0.8079, grad_fn=<SelectBackward>), tensor(-0.6537, grad_fn=<SelectBackward>), tensor(-0.4577, grad_fn=<SelectBackward>), tensor(-0.2271, grad_fn=<SelectBackward>), tensor(0.0261, grad_fn=<SelectBackward>), tensor(0.2819, grad_fn=<SelectBackward>), tensor(0.5168, grad_fn=<SelectBackward>), tensor(0.7131, grad_fn=<SelectBackward>), tensor(0.8623, grad_fn=<SelectBackward>), tensor(0.9598, grad_fn=<SelectBackward>), tensor(0.9982, grad_fn=<SelectBackward>), tensor(0.9672, grad_fn=<SelectBackward>), tensor(0.8639, grad_fn=<SelectBackward>), tensor(0.7024, grad_fn=<SelectBackward>), tensor(0.5037, grad_fn=<SelectBackward>), tensor(0.2814, grad_fn=<SelectBackward>), tensor(0.0445, grad_fn=<SelectBackward>), tensor(-0.1976, grad_fn=<SelectBackward>), tensor(-0.4313, grad_fn=<SelectBackward>), tensor(-0.6406, grad_fn=<SelectBackward>), tensor(-0.8080, grad_fn=<SelectBackward>), tensor(-0.9180, grad_fn=<SelectBackward>), tensor(-0.9600, grad_fn=<SelectBackward>), tensor(-0.9326, grad_fn=<SelectBackward>), tensor(-0.8434, grad_fn=<SelectBackward>), tensor(-0.7024, grad_fn=<SelectBackward>), tensor(-0.5178, grad_fn=<SelectBackward>), tensor(-0.2962, grad_fn=<SelectBackward>), tensor(-0.0477, grad_fn=<SelectBackward>), tensor(0.2097, grad_fn=<SelectBackward>), tensor(0.4529, grad_fn=<SelectBackward>), tensor(0.6614, grad_fn=<SelectBackward>), tensor(0.8246, grad_fn=<SelectBackward>), tensor(0.9375, grad_fn=<SelectBackward>), tensor(0.9938, grad_fn=<SelectBackward>), tensor(0.9836, grad_fn=<SelectBackward>), tensor(0.9004, grad_fn=<SelectBackward>), tensor(0.7533, grad_fn=<SelectBackward>), tensor(0.5634, grad_fn=<SelectBackward>), tensor(0.3469, grad_fn=<SelectBackward>), tensor(0.1134, grad_fn=<SelectBackward>), tensor(-0.1284, grad_fn=<SelectBackward>), tensor(-0.3661, grad_fn=<SelectBackward>), tensor(-0.5842, grad_fn=<SelectBackward>), tensor(-0.7653, grad_fn=<SelectBackward>), tensor(-0.8932, grad_fn=<SelectBackward>), tensor(-0.9552, grad_fn=<SelectBackward>), tensor(-0.9472, grad_fn=<SelectBackward>), tensor(-0.8747, grad_fn=<SelectBackward>), tensor(-0.7475, grad_fn=<SelectBackward>), tensor(-0.5747, grad_fn=<SelectBackward>), tensor(-0.3629, grad_fn=<SelectBackward>), tensor(-0.1207, grad_fn=<SelectBackward>), tensor(0.1364, grad_fn=<SelectBackward>), tensor(0.3860, grad_fn=<SelectBackward>), tensor(0.6060, grad_fn=<SelectBackward>), tensor(0.7828, grad_fn=<SelectBackward>), tensor(0.9106, grad_fn=<SelectBackward>), tensor(0.9840, grad_fn=<SelectBackward>), tensor(0.9939, grad_fn=<SelectBackward>), tensor(0.9315, grad_fn=<SelectBackward>), tensor(0.8008, grad_fn=<SelectBackward>), tensor(0.6211, grad_fn=<SelectBackward>), tensor(0.4111, grad_fn=<SelectBackward>), tensor(0.1815, grad_fn=<SelectBackward>), tensor(-0.0590, grad_fn=<SelectBackward>), tensor(-0.2993, grad_fn=<SelectBackward>), tensor(-0.5247, grad_fn=<SelectBackward>), tensor(-0.7182, grad_fn=<SelectBackward>), tensor(-0.8628, grad_fn=<SelectBackward>), tensor(-0.9446, grad_fn=<SelectBackward>), tensor(-0.9565, grad_fn=<SelectBackward>), tensor(-0.9015, grad_fn=<SelectBackward>), tensor(-0.7889, grad_fn=<SelectBackward>), tensor(-0.6285, grad_fn=<SelectBackward>), tensor(-0.4272, grad_fn=<SelectBackward>), tensor(-0.1925, grad_fn=<SelectBackward>), tensor(0.0625, grad_fn=<SelectBackward>), tensor(0.3167, grad_fn=<SelectBackward>), tensor(0.5470, grad_fn=<SelectBackward>), tensor(0.7370, grad_fn=<SelectBackward>), tensor(0.8793, grad_fn=<SelectBackward>), tensor(0.9690, grad_fn=<SelectBackward>), tensor(0.9982, grad_fn=<SelectBackward>), tensor(0.9569, grad_fn=<SelectBackward>), tensor(0.8442, grad_fn=<SelectBackward>), tensor(0.6763, grad_fn=<SelectBackward>), tensor(0.4736, grad_fn=<SelectBackward>), tensor(0.2488, grad_fn=<SelectBackward>), tensor(0.0105, grad_fn=<SelectBackward>), tensor(-0.2313, grad_fn=<SelectBackward>), tensor(-0.4627, grad_fn=<SelectBackward>), tensor(-0.6670, grad_fn=<SelectBackward>), tensor(-0.8273, grad_fn=<SelectBackward>), tensor(-0.9282, grad_fn=<SelectBackward>), tensor(-0.9602, grad_fn=<SelectBackward>), tensor(-0.9236, grad_fn=<SelectBackward>), tensor(-0.8264, grad_fn=<SelectBackward>), tensor(-0.6789, grad_fn=<SelectBackward>), tensor(-0.4886, grad_fn=<SelectBackward>), tensor(-0.2625, grad_fn=<SelectBackward>), tensor(-0.0115, grad_fn=<SelectBackward>), tensor(0.2454, grad_fn=<SelectBackward>), tensor(0.4846, grad_fn=<SelectBackward>), tensor(0.6873, grad_fn=<SelectBackward>), tensor(0.8436, grad_fn=<SelectBackward>), tensor(0.9491, grad_fn=<SelectBackward>), tensor(0.9967, grad_fn=<SelectBackward>)]\n",
      "250\n"
     ]
    }
   ],
   "source": [
    "model.eval()  #前面没加model.train()？\n",
    "h0 = torch.zeros(1,1,hidden_size)\n",
    "prediction = test_x_true[:10].tolist()\n",
    "#print(prediction)\n",
    "#cur_input = torch.tensor(test_x_true[:10])  #这里大写和小写的tensor有什么区别？\n",
    "#cur_input = cur_input.reshape(1,10,1)\n",
    "#print(cur_input.shape)\n",
    "\n",
    "for i in range(num_x_points*scale_factor-num_time_steps):\n",
    "    cur_input = prediction[i:i+10]\n",
    "    cur_input = torch.tensor(cur_input).reshape(1,10,1)\n",
    "    (y_pred, hn) = model(cur_input,h0)\n",
    "    #print(y_pred.shape)\n",
    "    prediction.append(y_pred[0,0])\n",
    "    \n",
    "print(prediction) \n",
    "print(len(prediction))\n",
    "    "
   ]
  },
  {
   "cell_type": "code",
   "execution_count": 126,
   "metadata": {},
   "outputs": [
    {
     "data": {
      "text/plain": [
       "[<matplotlib.lines.Line2D at 0x26ae93a7648>]"
      ]
     },
     "execution_count": 126,
     "metadata": {},
     "output_type": "execute_result"
    },
    {
     "data": {
      "text/plain": [
       "<matplotlib.collections.PathCollection at 0x26ae93a0788>"
      ]
     },
     "execution_count": 126,
     "metadata": {},
     "output_type": "execute_result"
    },
    {
     "data": {
      "image/png": "[encoded data removed]",
      "text/plain": [
       "<Figure size 432x288 with 1 Axes>"
      ]
     },
     "metadata": {
      "needs_background": "light"
     },
     "output_type": "display_data"
    }
   ],
   "source": [
    "import matplotlib.pyplot as plt\n",
    "#plt.scatter(test_points,test_x_true,s=90)\n",
    "plt.plot(test_points,test_x_true)\n",
    "plt.scatter(test_points,np.array(prediction))\n",
    "plt.show()"
   ]
  }
 ],
 "metadata": {
  "kernelspec": {
   "display_name": "Python [conda env:.conda-mytorch]",
   "language": "python",
   "name": "conda-env-.conda-mytorch-py"
  },
  "language_info": {
   "codemirror_mode": {
    "name": "ipython",
    "version": 3
   },
   "file_extension": ".py",
   "mimetype": "text/x-python",
   "name": "python",
   "nbconvert_exporter": "python",
   "pygments_lexer": "ipython3",
   "version": "3.7.7"
  },
  "toc": {
   "base_numbering": 1,
   "nav_menu": {},
   "number_sections": true,
   "sideBar": true,
   "skip_h1_title": false,
   "title_cell": "Table of Contents",
   "title_sidebar": "Contents",
   "toc_cell": false,
   "toc_position": {},
   "toc_section_display": true,
   "toc_window_display": false
  }
 },
 "nbformat": 4,
 "nbformat_minor": 2
}
