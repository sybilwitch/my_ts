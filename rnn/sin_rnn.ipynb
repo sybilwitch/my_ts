{
 "cells": [
  {
   "cell_type": "code",
   "execution_count": 4,
   "metadata": {},
   "outputs": [],
   "source": [
    "from IPython.core.interactiveshell import InteractiveShell \n",
    "InteractiveShell.ast_node_interactivity = 'all' #默认为'last'"
   ]
  },
  {
   "cell_type": "markdown",
   "metadata": {},
   "source": [
    "产生正弦数据："
   ]
  },
  {
   "cell_type": "markdown",
   "metadata": {},
   "source": [
    "numpy.random.randint(low, high=None, size=None, dtype='l')\n",
    "\n",
    "函数的作用是，返回一个随机整型数，范围从低（包括）到高（不包括），即[low, high)。\n",
    "如果没有写参数high的值，则返回[0,low)的值。\n",
    "\n",
    "参数如下：\n",
    "\n",
    "low: int\n",
    "生成的数值最低要大于等于low。\n",
    "（hign = None时，生成的数值要在[0, low)区间内）\n",
    "high: int (可选)\n",
    "如果使用这个值，则生成的数值在[low, high)区间。\n",
    "size: int or tuple of ints(可选)\n",
    "输出随机数的尺寸，比如size = (m * n* k)则输出同规模即m * n* k个随机数。默认是None的，仅仅返回满足要求的单一随机数。\n",
    "dtype: dtype(可选)：\n",
    "想要输出的格式。如int64、int等等\n",
    "输出：\n",
    "\n",
    "out: int or ndarray of ints\n",
    "返回一个随机数或随机数数组。"
   ]
  },
  {
   "cell_type": "code",
   "execution_count": 14,
   "metadata": {},
   "outputs": [
    {
     "name": "stdout",
     "output_type": "stream",
     "text": [
      "[0]\n",
      "2\n"
     ]
    }
   ],
   "source": [
    "start_test = np.random.randint(3,size=1)\n",
    "start = np.random.randint(3,size=1)[0]\n",
    "print(start_test)\n",
    "print(start)"
   ]
  },
  {
   "cell_type": "code",
   "execution_count": 16,
   "metadata": {},
   "outputs": [
    {
     "data": {
      "text/plain": [
       "2"
      ]
     },
     "execution_count": 16,
     "metadata": {},
     "output_type": "execute_result"
    }
   ],
   "source": [
    "np.random.randint(3)"
   ]
  },
  {
   "cell_type": "code",
   "execution_count": null,
   "metadata": {},
   "outputs": [],
   "source": [
    "np.random.randint(2, size=10)\n",
    "np.random.randint(5, size=(2, 4))\n",
    "np.random.randint(2, high=10, size=(2,3))"
   ]
  },
  {
   "cell_type": "code",
   "execution_count": 1,
   "metadata": {},
   "outputs": [],
   "source": [
    "import torch.utils.data\n",
    "from torch import optim,nn\n",
    "import numpy as np\n",
    "import matplotlib.pyplot as plt"
   ]
  },
  {
   "cell_type": "code",
   "execution_count": 2,
   "metadata": {},
   "outputs": [],
   "source": [
    "num_time_steps = 50\n",
    "input_size = 1\n",
    "hidden_size = 16\n",
    "output_size = 1"
   ]
  },
  {
   "cell_type": "code",
   "execution_count": 17,
   "metadata": {},
   "outputs": [
    {
     "name": "stdout",
     "output_type": "stream",
     "text": [
      "[ 2.          2.20408163  2.40816327  2.6122449   2.81632653  3.02040816\n",
      "  3.2244898   3.42857143  3.63265306  3.83673469  4.04081633  4.24489796\n",
      "  4.44897959  4.65306122  4.85714286  5.06122449  5.26530612  5.46938776\n",
      "  5.67346939  5.87755102  6.08163265  6.28571429  6.48979592  6.69387755\n",
      "  6.89795918  7.10204082  7.30612245  7.51020408  7.71428571  7.91836735\n",
      "  8.12244898  8.32653061  8.53061224  8.73469388  8.93877551  9.14285714\n",
      "  9.34693878  9.55102041  9.75510204  9.95918367 10.16326531 10.36734694\n",
      " 10.57142857 10.7755102  10.97959184 11.18367347 11.3877551  11.59183673\n",
      " 11.79591837 12.        ]\n"
     ]
    }
   ],
   "source": [
    "start = np.random.randint(3,size=1)[0]\n",
    "time_steps = np.linspace(start,start+10,num_time_steps)\n",
    "print(time_steps)"
   ]
  },
  {
   "cell_type": "code",
   "execution_count": 21,
   "metadata": {},
   "outputs": [
    {
     "name": "stdout",
     "output_type": "stream",
     "text": [
      "[ 0.90929743  0.80608763  0.6694212   0.50497047  0.31956097  0.1208881\n",
      " -0.08280223 -0.28305585 -0.47156126 -0.64049453 -0.7828441  -0.89270176\n",
      " -0.96550788 -0.99824062 -0.98954144 -0.93977138 -0.85099614 -0.72690035\n",
      " -0.57263459 -0.39460166 -0.2001908   0.00252898  0.20514378  0.3992441\n",
      "  0.57677382  0.73036456  0.85364154  0.94148818  0.99025838  0.99792796\n",
      "  0.96417857  0.890411    0.77968695  0.63660203  0.46709497  0.27820115\n",
      "  0.07776061 -0.12590739 -0.3243496  -0.5093297  -0.67317009 -0.80907059\n",
      " -0.91139064 -0.97588346 -0.99987228 -0.98236145 -0.92407774 -0.82744023\n",
      " -0.69645984 -0.53657292]\n",
      "(50,)\n",
      "[[ 0.90929743]\n",
      " [ 0.80608763]\n",
      " [ 0.6694212 ]\n",
      " [ 0.50497047]\n",
      " [ 0.31956097]\n",
      " [ 0.1208881 ]\n",
      " [-0.08280223]\n",
      " [-0.28305585]\n",
      " [-0.47156126]\n",
      " [-0.64049453]\n",
      " [-0.7828441 ]\n",
      " [-0.89270176]\n",
      " [-0.96550788]\n",
      " [-0.99824062]\n",
      " [-0.98954144]\n",
      " [-0.93977138]\n",
      " [-0.85099614]\n",
      " [-0.72690035]\n",
      " [-0.57263459]\n",
      " [-0.39460166]\n",
      " [-0.2001908 ]\n",
      " [ 0.00252898]\n",
      " [ 0.20514378]\n",
      " [ 0.3992441 ]\n",
      " [ 0.57677382]\n",
      " [ 0.73036456]\n",
      " [ 0.85364154]\n",
      " [ 0.94148818]\n",
      " [ 0.99025838]\n",
      " [ 0.99792796]\n",
      " [ 0.96417857]\n",
      " [ 0.890411  ]\n",
      " [ 0.77968695]\n",
      " [ 0.63660203]\n",
      " [ 0.46709497]\n",
      " [ 0.27820115]\n",
      " [ 0.07776061]\n",
      " [-0.12590739]\n",
      " [-0.3243496 ]\n",
      " [-0.5093297 ]\n",
      " [-0.67317009]\n",
      " [-0.80907059]\n",
      " [-0.91139064]\n",
      " [-0.97588346]\n",
      " [-0.99987228]\n",
      " [-0.98236145]\n",
      " [-0.92407774]\n",
      " [-0.82744023]\n",
      " [-0.69645984]\n",
      " [-0.53657292]]\n",
      "(50, 1)\n"
     ]
    }
   ],
   "source": [
    "data = np.sin(time_steps)\n",
    "print(data)\n",
    "print(data.shape)\n",
    "data = data.reshape(num_time_steps,1)\n",
    "print(data)\n",
    "print(data.shape)"
   ]
  },
  {
   "cell_type": "code",
   "execution_count": 24,
   "metadata": {},
   "outputs": [
    {
     "name": "stdout",
     "output_type": "stream",
     "text": [
      "[[ 0.90929743]\n",
      " [ 0.80608763]\n",
      " [ 0.6694212 ]\n",
      " [ 0.50497047]\n",
      " [ 0.31956097]\n",
      " [ 0.1208881 ]\n",
      " [-0.08280223]\n",
      " [-0.28305585]\n",
      " [-0.47156126]\n",
      " [-0.64049453]\n",
      " [-0.7828441 ]\n",
      " [-0.89270176]\n",
      " [-0.96550788]\n",
      " [-0.99824062]\n",
      " [-0.98954144]\n",
      " [-0.93977138]\n",
      " [-0.85099614]\n",
      " [-0.72690035]\n",
      " [-0.57263459]\n",
      " [-0.39460166]\n",
      " [-0.2001908 ]\n",
      " [ 0.00252898]\n",
      " [ 0.20514378]\n",
      " [ 0.3992441 ]\n",
      " [ 0.57677382]\n",
      " [ 0.73036456]\n",
      " [ 0.85364154]\n",
      " [ 0.94148818]\n",
      " [ 0.99025838]\n",
      " [ 0.99792796]\n",
      " [ 0.96417857]\n",
      " [ 0.890411  ]\n",
      " [ 0.77968695]\n",
      " [ 0.63660203]\n",
      " [ 0.46709497]\n",
      " [ 0.27820115]\n",
      " [ 0.07776061]\n",
      " [-0.12590739]\n",
      " [-0.3243496 ]\n",
      " [-0.5093297 ]\n",
      " [-0.67317009]\n",
      " [-0.80907059]\n",
      " [-0.91139064]\n",
      " [-0.97588346]\n",
      " [-0.99987228]\n",
      " [-0.98236145]\n",
      " [-0.92407774]\n",
      " [-0.82744023]\n",
      " [-0.69645984]]\n"
     ]
    }
   ],
   "source": [
    "print(data[:-1])"
   ]
  },
  {
   "cell_type": "code",
   "execution_count": 25,
   "metadata": {},
   "outputs": [
    {
     "name": "stdout",
     "output_type": "stream",
     "text": [
      "[[ 0.80608763]\n",
      " [ 0.6694212 ]\n",
      " [ 0.50497047]\n",
      " [ 0.31956097]\n",
      " [ 0.1208881 ]\n",
      " [-0.08280223]\n",
      " [-0.28305585]\n",
      " [-0.47156126]\n",
      " [-0.64049453]\n",
      " [-0.7828441 ]\n",
      " [-0.89270176]\n",
      " [-0.96550788]\n",
      " [-0.99824062]\n",
      " [-0.98954144]\n",
      " [-0.93977138]\n",
      " [-0.85099614]\n",
      " [-0.72690035]\n",
      " [-0.57263459]\n",
      " [-0.39460166]\n",
      " [-0.2001908 ]\n",
      " [ 0.00252898]\n",
      " [ 0.20514378]\n",
      " [ 0.3992441 ]\n",
      " [ 0.57677382]\n",
      " [ 0.73036456]\n",
      " [ 0.85364154]\n",
      " [ 0.94148818]\n",
      " [ 0.99025838]\n",
      " [ 0.99792796]\n",
      " [ 0.96417857]\n",
      " [ 0.890411  ]\n",
      " [ 0.77968695]\n",
      " [ 0.63660203]\n",
      " [ 0.46709497]\n",
      " [ 0.27820115]\n",
      " [ 0.07776061]\n",
      " [-0.12590739]\n",
      " [-0.3243496 ]\n",
      " [-0.5093297 ]\n",
      " [-0.67317009]\n",
      " [-0.80907059]\n",
      " [-0.91139064]\n",
      " [-0.97588346]\n",
      " [-0.99987228]\n",
      " [-0.98236145]\n",
      " [-0.92407774]\n",
      " [-0.82744023]\n",
      " [-0.69645984]\n",
      " [-0.53657292]]\n"
     ]
    }
   ],
   "source": [
    "print(data[1:])"
   ]
  },
  {
   "cell_type": "code",
   "execution_count": 28,
   "metadata": {},
   "outputs": [
    {
     "name": "stdout",
     "output_type": "stream",
     "text": [
      "tensor([[[ 0.9093],\n",
      "         [ 0.8061],\n",
      "         [ 0.6694],\n",
      "         [ 0.5050],\n",
      "         [ 0.3196],\n",
      "         [ 0.1209],\n",
      "         [-0.0828],\n",
      "         [-0.2831],\n",
      "         [-0.4716],\n",
      "         [-0.6405],\n",
      "         [-0.7828],\n",
      "         [-0.8927],\n",
      "         [-0.9655],\n",
      "         [-0.9982],\n",
      "         [-0.9895],\n",
      "         [-0.9398],\n",
      "         [-0.8510],\n",
      "         [-0.7269],\n",
      "         [-0.5726],\n",
      "         [-0.3946],\n",
      "         [-0.2002],\n",
      "         [ 0.0025],\n",
      "         [ 0.2051],\n",
      "         [ 0.3992],\n",
      "         [ 0.5768],\n",
      "         [ 0.7304],\n",
      "         [ 0.8536],\n",
      "         [ 0.9415],\n",
      "         [ 0.9903],\n",
      "         [ 0.9979],\n",
      "         [ 0.9642],\n",
      "         [ 0.8904],\n",
      "         [ 0.7797],\n",
      "         [ 0.6366],\n",
      "         [ 0.4671],\n",
      "         [ 0.2782],\n",
      "         [ 0.0778],\n",
      "         [-0.1259],\n",
      "         [-0.3243],\n",
      "         [-0.5093],\n",
      "         [-0.6732],\n",
      "         [-0.8091],\n",
      "         [-0.9114],\n",
      "         [-0.9759],\n",
      "         [-0.9999],\n",
      "         [-0.9824],\n",
      "         [-0.9241],\n",
      "         [-0.8274],\n",
      "         [-0.6965]]])\n",
      "torch.Size([1, 49, 1])\n"
     ]
    }
   ],
   "source": [
    "x = torch.tensor(data[:-1]).float().view(1,num_time_steps-1,1)\n",
    "y = torch.tensor(data[1:]).float().view(1,num_time_steps-1,1)\n",
    "print(x)\n",
    "print(x.shape)"
   ]
  },
  {
   "cell_type": "markdown",
   "metadata": {},
   "source": [
    "定义模型："
   ]
  },
  {
   "cell_type": "code",
   "execution_count": 30,
   "metadata": {},
   "outputs": [
    {
     "name": "stdout",
     "output_type": "stream",
     "text": [
      "tensor([[[0., 0., 0., 0., 0., 0., 0., 0., 0., 0., 0., 0., 0., 0., 0., 0.]]])\n",
      "torch.Size([1, 1, 16])\n"
     ]
    }
   ],
   "source": [
    "hidden_prev = torch.zeros(1, 1, hidden_size)\n",
    "print(hidden_prev)\n",
    "print(hidden_prev.shape)"
   ]
  },
  {
   "cell_type": "code",
   "execution_count": null,
   "metadata": {},
   "outputs": [],
   "source": [
    "class Net(nn.Module):\n",
    "    def __init__(self):\n",
    "        super(Net,self).__init__()\n",
    "        self.rnn = nn.RNN(input_size=input_size,hidden_size=hidden_size,\n",
    "                          num_layers=1,batch_first=True)\n",
    "        self.liner = nn.Linear(hidden_size,output_size)\n",
    "        \n",
    "    def forward(self,x,hidden_prev)"
   ]
  }
 ],
 "metadata": {
  "kernelspec": {
   "display_name": "Python [conda env:.conda-mytorch]",
   "language": "python",
   "name": "conda-env-.conda-mytorch-py"
  },
  "language_info": {
   "codemirror_mode": {
    "name": "ipython",
    "version": 3
   },
   "file_extension": ".py",
   "mimetype": "text/x-python",
   "name": "python",
   "nbconvert_exporter": "python",
   "pygments_lexer": "ipython3",
   "version": "3.7.7"
  },
  "toc": {
   "base_numbering": 1,
   "nav_menu": {},
   "number_sections": true,
   "sideBar": true,
   "skip_h1_title": false,
   "title_cell": "Table of Contents",
   "title_sidebar": "Contents",
   "toc_cell": false,
   "toc_position": {},
   "toc_section_display": true,
   "toc_window_display": false
  }
 },
 "nbformat": 4,
 "nbformat_minor": 2
}
